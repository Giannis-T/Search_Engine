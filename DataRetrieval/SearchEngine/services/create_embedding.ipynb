{
 "cells": [
  {
   "cell_type": "code",
   "execution_count": 1,
   "metadata": {},
   "outputs": [],
   "source": [
    "import gensim.downloader as api\n",
    "import gensim\n",
    "import pandas as pd\n",
    "from nltk.corpus import stopwords\n",
    "import numpy as np\n",
    "from sklearn.metrics.pairwise import cosine_similarity\n",
    "from gensim import utils\n",
    "from scipy.spatial.distance import cdist\n",
    "import os\n",
    "\n",
    "stop_words = stopwords.words('english')\n",
    "\n"
   ]
  },
  {
   "cell_type": "code",
   "execution_count": 104,
   "metadata": {},
   "outputs": [
    {
     "ename": "NameError",
     "evalue": "name 'os' is not defined",
     "output_type": "error",
     "traceback": [
      "\u001b[1;31m---------------------------------------------------------------------------\u001b[0m",
      "\u001b[1;31mNameError\u001b[0m                                 Traceback (most recent call last)",
      "\u001b[1;32m~\\AppData\\Local\\Temp/ipykernel_2260/3681365464.py\u001b[0m in \u001b[0;36m<module>\u001b[1;34m\u001b[0m\n\u001b[1;32m----> 1\u001b[1;33m \u001b[0mprint\u001b[0m\u001b[1;33m(\u001b[0m\u001b[1;34mf\"___________________________ {os.getcwd()} ________________________________\"\u001b[0m\u001b[1;33m)\u001b[0m\u001b[1;33m\u001b[0m\u001b[1;33m\u001b[0m\u001b[0m\n\u001b[0m",
      "\u001b[1;31mNameError\u001b[0m: name 'os' is not defined"
     ]
    }
   ],
   "source": [
    "print(f\"___________________________ {os.getcwd()} ________________________________\")"
   ]
  },
  {
   "cell_type": "code",
   "execution_count": 80,
   "metadata": {},
   "outputs": [
    {
     "name": "stdout",
     "output_type": "stream",
     "text": [
      "C:\\Users\\Giannis/gensim-data\\word2vec-google-news-300\\word2vec-google-news-300.gz\n"
     ]
    }
   ],
   "source": [
    "path = api.load(\"word2vec-google-news-300\", return_path=True)\n",
    "print(path)"
   ]
  },
  {
   "cell_type": "code",
   "execution_count": 90,
   "metadata": {},
   "outputs": [],
   "source": [
    "g_model = gensim.models.KeyedVectors.load_word2vec_format(\"C:/Users/Giannis/gensim-data/word2vec-google-news-300/GoogleNews-vectors-negative300.bin\", binary=True)  "
   ]
  },
  {
   "cell_type": "code",
   "execution_count": 2,
   "metadata": {},
   "outputs": [],
   "source": [
    "glove_model = api.load(\"glove-wiki-gigaword-50\")"
   ]
  },
  {
   "cell_type": "code",
   "execution_count": 95,
   "metadata": {},
   "outputs": [],
   "source": [
    "\n",
    "# preprocess the lyrics column of the dataframe by converting to lowercase and removing punctuation\n",
    "def preprocess_lyrics(df):\n",
    "    df[\"lyrics\"] = [\" \".join(utils.simple_preprocess(x)) for x in df[\"lyrics\"]]\n",
    "    return df\n",
    "\n",
    "def encode_lyrics(df):\n",
    "    embeddings = []\n",
    "    for lyrics in df[\"lyrics\"]:\n",
    "        embedding = []\n",
    "        for word in lyrics.split():\n",
    "            try:\n",
    "                embedding.append(g_model[word])\n",
    "            except KeyError:\n",
    "                pass\n",
    "        embeddings.append(np.mean(embedding, axis=0))\n",
    "    return np.array(embeddings)\n",
    "\n",
    "def save_encoded_df(df, filename):\n",
    "    np.save(filename, encode_lyrics(preprocess_lyrics(df)))\n",
    "\n",
    "def load_encoded_df(filename):\n",
    "    return np.load(filename)\n",
    "\n",
    "def find_similar_songs(query, encoded_df, df, batch_size=1000):\n",
    "    df_query = pd.DataFrame({\"lyrics\": [query]})\n",
    "    # processed_df_query = preprocess_lyrics(df_query)\n",
    "    query_embedding = encode_lyrics(df_query)\n",
    "    distances= cdist(encoded_df, query_embedding)\n",
    "    smallest_distances = np.argsort(distances.T)[0][:10]\n",
    "    results = [] \n",
    "    # print(smallest_distances[0].shape)\n",
    "    for distance in smallest_distances:\n",
    "        results.append(df.iloc[distance])\n",
    "    return results\n",
    "\n"
   ]
  },
  {
   "cell_type": "code",
   "execution_count": 102,
   "metadata": {},
   "outputs": [],
   "source": [
    "df = pd.read_csv(\"C:/Users/Giannis/Desktop/SearchEngine/data/clean_songs.tsv\", sep=\"\\t\")\n",
    "\n",
    "# save the encoded dataframe to a file\n",
    "save_encoded_df(df, \"encoded_data.npy\")"
   ]
  },
  {
   "cell_type": "code",
   "execution_count": 103,
   "metadata": {},
   "outputs": [
    {
     "data": {
      "text/html": [
       "<div>\n",
       "<style scoped>\n",
       "    .dataframe tbody tr th:only-of-type {\n",
       "        vertical-align: middle;\n",
       "    }\n",
       "\n",
       "    .dataframe tbody tr th {\n",
       "        vertical-align: top;\n",
       "    }\n",
       "\n",
       "    .dataframe thead th {\n",
       "        text-align: right;\n",
       "    }\n",
       "</style>\n",
       "<table border=\"1\" class=\"dataframe\">\n",
       "  <thead>\n",
       "    <tr style=\"text-align: right;\">\n",
       "      <th></th>\n",
       "      <th>artist</th>\n",
       "      <th>title</th>\n",
       "      <th>lyrics</th>\n",
       "    </tr>\n",
       "  </thead>\n",
       "  <tbody>\n",
       "    <tr>\n",
       "      <th>0</th>\n",
       "      <td>R. Kelly</td>\n",
       "      <td>Imagine That</td>\n",
       "      <td>close your eyes now relax your mind now want y...</td>\n",
       "    </tr>\n",
       "    <tr>\n",
       "      <th>1</th>\n",
       "      <td>Bon Jovi</td>\n",
       "      <td>Imagine</td>\n",
       "      <td>imagine there no heaven it easy if you try no ...</td>\n",
       "    </tr>\n",
       "    <tr>\n",
       "      <th>2</th>\n",
       "      <td>Our Lady Peace</td>\n",
       "      <td>Imagine</td>\n",
       "      <td>imagine there no heaven it easy if you try no ...</td>\n",
       "    </tr>\n",
       "    <tr>\n",
       "      <th>3</th>\n",
       "      <td>Diana Ross</td>\n",
       "      <td>Imagine</td>\n",
       "      <td>imagine there no heaven it easy if you try no ...</td>\n",
       "    </tr>\n",
       "    <tr>\n",
       "      <th>4</th>\n",
       "      <td>Avril Lavigne</td>\n",
       "      <td>Imagine</td>\n",
       "      <td>imagine there no heaven it easy if you try no ...</td>\n",
       "    </tr>\n",
       "  </tbody>\n",
       "</table>\n",
       "</div>"
      ],
      "text/plain": [
       "           artist         title  \\\n",
       "0        R. Kelly  Imagine That   \n",
       "1        Bon Jovi       Imagine   \n",
       "2  Our Lady Peace       Imagine   \n",
       "3      Diana Ross       Imagine   \n",
       "4   Avril Lavigne       Imagine   \n",
       "\n",
       "                                              lyrics  \n",
       "0  close your eyes now relax your mind now want y...  \n",
       "1  imagine there no heaven it easy if you try no ...  \n",
       "2  imagine there no heaven it easy if you try no ...  \n",
       "3  imagine there no heaven it easy if you try no ...  \n",
       "4  imagine there no heaven it easy if you try no ...  "
      ]
     },
     "execution_count": 103,
     "metadata": {},
     "output_type": "execute_result"
    }
   ],
   "source": [
    "\n",
    "encoded_df = load_encoded_df(\"encoded_data.npy\")\n",
    "\n",
    "query = \"imagine all the people\"\n",
    "results = find_similar_songs(query, encoded_df, df)\n",
    "\n",
    "results_dict = {\"artist\":[], \"title\":[], \"lyrics\":[]}\n",
    "for result in results:\n",
    "    results_dict[\"artist\"].append(result[\"artist\"])\n",
    "    results_dict[\"title\"].append(result[\"title\"])\n",
    "    results_dict[\"lyrics\"].append(result[\"lyrics\"])\n",
    "    # df_results.append({\"artist\":result[\"artist\"], \"title\":result[\"title\"], \"lyrics\":result[\"lyrics\"]}, ignore_index=True)\n",
    "    # print(f'Artist:{result[\"artist\"]}\\tTitle: {result[\"title\"]}\\tLyrics: {result[\"lyrics\"]}')\n",
    "\n",
    "df_results = pd.DataFrame(results_dict)\n",
    "df_results.head()\n"
   ]
  },
  {
   "cell_type": "code",
   "execution_count": 3,
   "metadata": {},
   "outputs": [],
   "source": [
    " load the encoded dataframe from a file\n",
    "encoded_df = load_encoded_df(\"encoded_data.npy\")\n",
    "\n",
    "# find the best 10 results based on cosine distance\n",
    "query = \"imagine all the people\"\n",
    "results = find_similar_songs(query, encoded_df, df)"
   ]
  }
 ],
 "metadata": {
  "kernelspec": {
   "display_name": "base",
   "language": "python",
   "name": "python3"
  },
  "language_info": {
   "codemirror_mode": {
    "name": "ipython",
    "version": 3
   },
   "file_extension": ".py",
   "mimetype": "text/x-python",
   "name": "python",
   "nbconvert_exporter": "python",
   "pygments_lexer": "ipython3",
   "version": "3.9.7"
  },
  "orig_nbformat": 4
 },
 "nbformat": 4,
 "nbformat_minor": 2
}
