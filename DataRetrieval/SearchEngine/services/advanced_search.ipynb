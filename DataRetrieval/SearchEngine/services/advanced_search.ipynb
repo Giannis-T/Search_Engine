{
 "cells": [
  {
   "cell_type": "code",
   "execution_count": 13,
   "metadata": {},
   "outputs": [],
   "source": [
    "import gensim.downloader as api\n",
    "import gensim\n",
    "import pandas as pd\n",
    "from nltk.corpus import stopwords\n",
    "import numpy as np\n",
    "from gensim import utils\n",
    "from scipy.spatial.distance import cdist\n",
    "import re\n",
    "\n",
    "stop_words = stopwords.words('english')\n",
    "g_model = gensim.models.KeyedVectors.load_word2vec_format(\"C:/Users/Giannis/gensim-data/word2vec-google-news-300/GoogleNews-vectors-negative300.bin\", binary=True)  \n"
   ]
  },
  {
   "cell_type": "code",
   "execution_count": 37,
   "metadata": {},
   "outputs": [],
   "source": [
    "# preprocess the lyrics column of the dataframe by converting to lowercase and removing punctuation\n",
    "def preprocess_lyrics(df):\n",
    "    df[\"lyrics\"] = [\" \".join(utils.simple_preprocess(x)) for x in df[\"lyrics\"]]\n",
    "    return df\n",
    "\n",
    "def encode_lyrics(df):\n",
    "    embeddings = []\n",
    "    for lyrics in df[\"lyrics\"]:\n",
    "        embedding = []\n",
    "        for word in lyrics.split():\n",
    "            try:\n",
    "                embedding.append(g_model[word])\n",
    "            except KeyError:\n",
    "                pass\n",
    "        embeddings.append(np.mean(embedding, axis=0))\n",
    "    return np.array(embeddings)\n",
    "\n",
    "def save_encoded_df(df, filename):\n",
    "    np.save(filename, encode_lyrics(preprocess_lyrics(df)))\n",
    "\n",
    "def load_encoded_df(filename):\n",
    "    return np.load(filename)\n",
    "\n",
    "def highlight_words(query, lyric):\n",
    "    for word in query.split():\n",
    "        if word != \"a\":\n",
    "            pattern = re.compile(re.escape(word), re.IGNORECASE)\n",
    "            lyric = pattern.sub(r'<b>\\g<0></b>', lyric)\n",
    "    return lyric\n",
    "   \n",
    "\n",
    "\n",
    "def find_similar_songs(query, encoded_df, df):\n",
    "    df_query = pd.DataFrame({\"lyrics\": [query]})\n",
    "    query_embedding = preprocess_lyrics(df_query)\n",
    "    query_embedding = encode_lyrics(query_embedding)\n",
    "    distances= cdist(encoded_df, query_embedding)\n",
    "    smallest_distances = np.argsort(distances.T)[0][:10]\n",
    "    results = [] \n",
    "    for distance in smallest_distances:\n",
    "        results.append(df.iloc[distance])\n",
    "    return results"
   ]
  },
  {
   "cell_type": "code",
   "execution_count": 38,
   "metadata": {},
   "outputs": [
    {
     "data": {
      "text/html": [
       "<div>\n",
       "<style scoped>\n",
       "    .dataframe tbody tr th:only-of-type {\n",
       "        vertical-align: middle;\n",
       "    }\n",
       "\n",
       "    .dataframe tbody tr th {\n",
       "        vertical-align: top;\n",
       "    }\n",
       "\n",
       "    .dataframe thead th {\n",
       "        text-align: right;\n",
       "    }\n",
       "</style>\n",
       "<table border=\"1\" class=\"dataframe\">\n",
       "  <thead>\n",
       "    <tr style=\"text-align: right;\">\n",
       "      <th></th>\n",
       "      <th>artist</th>\n",
       "      <th>title</th>\n",
       "      <th>lyrics</th>\n",
       "    </tr>\n",
       "  </thead>\n",
       "  <tbody>\n",
       "    <tr>\n",
       "      <th>0</th>\n",
       "      <td>Children</td>\n",
       "      <td>Apples And Oranges</td>\n",
       "      <td>I like apples and oranges.  I like apples and ...</td>\n",
       "    </tr>\n",
       "    <tr>\n",
       "      <th>1</th>\n",
       "      <td>System Of A Down</td>\n",
       "      <td>Vicinity Of Obscenity</td>\n",
       "      <td>Liar!  Liar!    Banana banana banana terracott...</td>\n",
       "    </tr>\n",
       "    <tr>\n",
       "      <th>2</th>\n",
       "      <td>Tori Amos</td>\n",
       "      <td>Datura</td>\n",
       "      <td>Get out of my garden    Passion vine  Texas sa...</td>\n",
       "    </tr>\n",
       "    <tr>\n",
       "      <th>3</th>\n",
       "      <td>Deep Purple</td>\n",
       "      <td>The Orange Juice Song</td>\n",
       "      <td>Orange juice,  Just thinkin bout that orange o...</td>\n",
       "    </tr>\n",
       "    <tr>\n",
       "      <th>4</th>\n",
       "      <td>The Monkees</td>\n",
       "      <td>Peter Percival Pattersons Pet Pig Porky</td>\n",
       "      <td>Peter Percival Patterson had a pet pig named P...</td>\n",
       "    </tr>\n",
       "  </tbody>\n",
       "</table>\n",
       "</div>"
      ],
      "text/plain": [
       "             artist                                    title  \\\n",
       "0          Children                       Apples And Oranges   \n",
       "1  System Of A Down                    Vicinity Of Obscenity   \n",
       "2         Tori Amos                                   Datura   \n",
       "3       Deep Purple                    The Orange Juice Song   \n",
       "4       The Monkees  Peter Percival Pattersons Pet Pig Porky   \n",
       "\n",
       "                                              lyrics  \n",
       "0  I like apples and oranges.  I like apples and ...  \n",
       "1  Liar!  Liar!    Banana banana banana terracott...  \n",
       "2  Get out of my garden    Passion vine  Texas sa...  \n",
       "3  Orange juice,  Just thinkin bout that orange o...  \n",
       "4  Peter Percival Patterson had a pet pig named P...  "
      ]
     },
     "execution_count": 38,
     "metadata": {},
     "output_type": "execute_result"
    }
   ],
   "source": [
    "\n",
    "# load the encoded dataframe from a file\n",
    "encoded_df = load_encoded_df(\"encoded_data.npy\")\n",
    "\n",
    "# find the best 10 results based on cosine distance\n",
    "df = pd.read_csv(\"C:/Users/Giannis/Desktop/SearchEngine/data/clean_songs.tsv\", sep=\"\\t\")\n",
    "\n",
    "query = \"apple\"\n",
    "results = find_similar_songs(query, encoded_df, df)\n",
    "\n",
    "results_dict = {\"artist\":[], \"title\":[], \"lyrics\":[]}\n",
    "for result in results:\n",
    "    results_dict[\"artist\"].append(result[\"artist\"])\n",
    "    results_dict[\"title\"].append(result[\"title\"])\n",
    "    results_dict[\"lyrics\"].append(highlight_words(query, result[\"lyrics\"]))\n",
    "\n",
    "df_results = pd.DataFrame(results_dict)\n",
    "df_results.head()"
   ]
  },
  {
   "cell_type": "code",
   "execution_count": 39,
   "metadata": {},
   "outputs": [
    {
     "data": {
      "text/plain": [
       "'I like apples and oranges.  I like apples and oranges.  Apples and oranges are so sweet.  Apples and oranges are good to eat.  I like apples and oranges.    Orange juice is so sweet,  <b>Apple</b> sauce is fun to eat,  <b>Apple</b> pie with ice cream -- what a tasty treat.  I like apples and oranges.  I like apples and oranges.    Apples and oranges are so sweet.  Apples and oranges are good to eat.  I like apples and oranges.    Orange juice is so sweet,  <b>Apple</b> sauce is fun to eat,  And <b>apple</b> pie with ice cream -- what a tasty treat.  I like apples and oranges.  I like apples and oranges.    Apples and oranges are so sweet.  Apples and oranges are good to eat.  I like apples and oranges.    Orange juice is so sweet,  <b>Apple</b> sauce is fun to eat,  <b>Apple</b> pie with ice cream -- oooh, what a tasty treat.  I like apples and oranges.  I like apples and oranges.  Applies and oranges  Apples and oranges (repeat to fade)'"
      ]
     },
     "execution_count": 39,
     "metadata": {},
     "output_type": "execute_result"
    }
   ],
   "source": [
    "df_results.lyrics[0]"
   ]
  }
 ],
 "metadata": {
  "kernelspec": {
   "display_name": "base",
   "language": "python",
   "name": "python3"
  },
  "language_info": {
   "codemirror_mode": {
    "name": "ipython",
    "version": 3
   },
   "file_extension": ".py",
   "mimetype": "text/x-python",
   "name": "python",
   "nbconvert_exporter": "python",
   "pygments_lexer": "ipython3",
   "version": "3.9.7"
  },
  "orig_nbformat": 4
 },
 "nbformat": 4,
 "nbformat_minor": 2
}
